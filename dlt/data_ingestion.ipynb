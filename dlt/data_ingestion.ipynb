{
 "cells": [
  {
   "cell_type": "code",
   "execution_count": 25,
   "metadata": {},
   "outputs": [
    {
     "ename": "TypeError",
     "evalue": "__init__() got an unexpected keyword argument 'base_page'",
     "output_type": "error",
     "traceback": [
      "\u001b[0;31m---------------------------------------------------------------------------\u001b[0m",
      "\u001b[0;31mTypeError\u001b[0m                                 Traceback (most recent call last)",
      "Cell \u001b[0;32mIn[25], line 19\u001b[0m\n\u001b[1;32m     16\u001b[0m     \u001b[38;5;28;01mfor\u001b[39;00m page \u001b[38;5;129;01min\u001b[39;00m client\u001b[38;5;241m.\u001b[39mpaginate(\u001b[38;5;124m\"\u001b[39m\u001b[38;5;124mdata_engineering_zoomcamp_api\u001b[39m\u001b[38;5;124m\"\u001b[39m):    \u001b[38;5;66;03m# <--- API endpoint for retrieving taxi ride data\u001b[39;00m\n\u001b[1;32m     17\u001b[0m         \u001b[38;5;28;01myield\u001b[39;00m page   \u001b[38;5;66;03m# remember about memory management and yield data\u001b[39;00m\n\u001b[0;32m---> 19\u001b[0m \u001b[38;5;28;01mfor\u001b[39;00m page_data \u001b[38;5;129;01min\u001b[39;00m paginated_getter():\n\u001b[1;32m     20\u001b[0m     \u001b[38;5;28mprint\u001b[39m(page_data)\n",
      "Cell \u001b[0;32mIn[25], line 10\u001b[0m, in \u001b[0;36mpaginated_getter\u001b[0;34m()\u001b[0m\n\u001b[1;32m      6\u001b[0m \u001b[38;5;28;01mdef\u001b[39;00m\u001b[38;5;250m \u001b[39m\u001b[38;5;21mpaginated_getter\u001b[39m():\n\u001b[1;32m      7\u001b[0m     client \u001b[38;5;241m=\u001b[39m RESTClient(\n\u001b[1;32m      8\u001b[0m         base_url\u001b[38;5;241m=\u001b[39m\u001b[38;5;124m\"\u001b[39m\u001b[38;5;124mhttps://us-central1-dlthub-analytics.cloudfunctions.net\u001b[39m\u001b[38;5;124m\"\u001b[39m,\n\u001b[1;32m      9\u001b[0m         \u001b[38;5;66;03m# Define pagination strategy - page-based pagination\u001b[39;00m\n\u001b[0;32m---> 10\u001b[0m         paginator\u001b[38;5;241m=\u001b[39m\u001b[43mPageNumberPaginator\u001b[49m\u001b[43m(\u001b[49m\u001b[43m   \u001b[49m\u001b[38;5;66;43;03m# <--- Pages are numbered (1, 2, 3, ...)\u001b[39;49;00m\n\u001b[1;32m     11\u001b[0m \u001b[43m            \u001b[49m\u001b[43mbase_page\u001b[49m\u001b[38;5;241;43m=\u001b[39;49m\u001b[38;5;241;43m1\u001b[39;49m\u001b[43m,\u001b[49m\u001b[43m   \u001b[49m\u001b[38;5;66;43;03m# <--- Start from page 1\u001b[39;49;00m\n\u001b[1;32m     12\u001b[0m \u001b[43m            \u001b[49m\u001b[43mtotal_path\u001b[49m\u001b[38;5;241;43m=\u001b[39;49m\u001b[38;5;28;43;01mNone\u001b[39;49;00m\u001b[43m    \u001b[49m\u001b[38;5;66;43;03m# <--- No total count of pages provided by API, pagination should stop when a page contains no result items\u001b[39;49;00m\n\u001b[1;32m     13\u001b[0m \u001b[43m        \u001b[49m\u001b[43m)\u001b[49m\n\u001b[1;32m     14\u001b[0m     )\n\u001b[1;32m     16\u001b[0m     \u001b[38;5;28;01mfor\u001b[39;00m page \u001b[38;5;129;01min\u001b[39;00m client\u001b[38;5;241m.\u001b[39mpaginate(\u001b[38;5;124m\"\u001b[39m\u001b[38;5;124mdata_engineering_zoomcamp_api\u001b[39m\u001b[38;5;124m\"\u001b[39m):    \u001b[38;5;66;03m# <--- API endpoint for retrieving taxi ride data\u001b[39;00m\n\u001b[1;32m     17\u001b[0m         \u001b[38;5;28;01myield\u001b[39;00m page\n",
      "\u001b[0;31mTypeError\u001b[0m: __init__() got an unexpected keyword argument 'base_page'"
     ]
    }
   ],
   "source": [
    "import dlt\n",
    "from dlt.sources.helpers.rest_client import RESTClient\n",
    "from dlt.sources.helpers.rest_client.paginators import PageNumberPaginator\n",
    "\n",
    "\n",
    "def paginated_getter():\n",
    "    client = RESTClient(\n",
    "        base_url=\"https://us-central1-dlthub-analytics.cloudfunctions.net\",\n",
    "        # Define pagination strategy - page-based pagination\n",
    "        paginator=PageNumberPaginator(   # <--- Pages are numbered (1, 2, 3, ...)\n",
    "            base_page=1,   # <--- Start from page 1\n",
    "            total_path=None    # <--- No total count of pages provided by API, pagination should stop when a page contains no result items\n",
    "        )\n",
    "    )\n",
    "\n",
    "    for page in client.paginate(\"data_engineering_zoomcamp_api\"):    # <--- API endpoint for retrieving taxi ride data\n",
    "        yield page   # remember about memory management and yield data\n",
    "\n",
    "for page_data in paginated_getter():\n",
    "    print(page_data)"
   ]
  }
 ],
 "metadata": {
  "kernelspec": {
   "display_name": ".venv",
   "language": "python",
   "name": "python3"
  },
  "language_info": {
   "codemirror_mode": {
    "name": "ipython",
    "version": 3
   },
   "file_extension": ".py",
   "mimetype": "text/x-python",
   "name": "python",
   "nbconvert_exporter": "python",
   "pygments_lexer": "ipython3",
   "version": "3.9.6"
  }
 },
 "nbformat": 4,
 "nbformat_minor": 2
}
